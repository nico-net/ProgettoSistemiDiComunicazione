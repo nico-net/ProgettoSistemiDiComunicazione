{
  "nbformat": 4,
  "nbformat_minor": 0,
  "metadata": {
    "colab": {
      "provenance": [],
      "authorship_tag": "ABX9TyNDPWdSYCWOG8E1Fm82GAhR",
      "include_colab_link": true
    },
    "kernelspec": {
      "name": "python3",
      "display_name": "Python 3"
    },
    "language_info": {
      "name": "python"
    }
  },
  "cells": [
    {
      "cell_type": "markdown",
      "metadata": {
        "id": "view-in-github",
        "colab_type": "text"
      },
      "source": [
        "<a href=\"https://colab.research.google.com/github/nico-net/ProgettoSistemiDiComunicazione/blob/main/SVM.ipynb\" target=\"_parent\"><img src=\"https://colab.research.google.com/assets/colab-badge.svg\" alt=\"Open In Colab\"/></a>"
      ]
    },
    {
      "cell_type": "code",
      "execution_count": 1,
      "metadata": {
        "colab": {
          "base_uri": "https://localhost:8080/",
          "height": 921
        },
        "id": "kuCU1WwGIlqJ",
        "outputId": "983bc59a-470a-492e-d92d-c8fffe270a37"
      },
      "outputs": [
        {
          "output_type": "stream",
          "name": "stdout",
          "text": [
            "[0 0 1 0 2 0 2 1 1 0]\n",
            "[[0.08       0.99096308]\n",
            " [0.08       0.99096308]\n",
            " [0.52       0.11128567]\n",
            " [0.44       0.27162924]\n",
            " [0.84       0.        ]\n",
            " [1.         0.26622889]\n",
            " [0.84       0.        ]\n",
            " [0.48       0.02659694]\n",
            " [1.         0.04819088]\n",
            " [0.16       0.98562038]]\n",
            "[0 0 1 0 2 0 2 1 1 0]\n",
            "Accuracy: 1.00\n",
            "\n",
            "Classification Report:\n",
            "               precision    recall  f1-score   support\n",
            "\n",
            "           0       1.00      1.00      1.00      2122\n",
            "           1       0.99      0.99      0.99      1207\n",
            "           2       0.99      0.99      0.99      1491\n",
            "\n",
            "    accuracy                           1.00      4820\n",
            "   macro avg       0.99      0.99      0.99      4820\n",
            "weighted avg       1.00      1.00      1.00      4820\n",
            "\n"
          ]
        },
        {
          "output_type": "display_data",
          "data": {
            "text/plain": [
              "<Figure size 600x500 with 2 Axes>"
            ],
            "image/png": "[encoded data removed]"
          },
          "metadata": {}
        }
      ],
      "source": [
        "import numpy as np\n",
        "import pandas as pd\n",
        "import matplotlib.pyplot as plt\n",
        "import seaborn as sns\n",
        "from sklearn.preprocessing import StandardScaler, MinMaxScaler\n",
        "from sklearn.svm import SVC\n",
        "from sklearn.metrics import accuracy_score, classification_report, confusion_matrix\n",
        "from sklearn.model_selection import train_test_split\n",
        "\n",
        "#  1. Carica i dati\n",
        "df = pd.read_csv(\"dati_classificati.csv\")  # Sostituisci con il tuo dataset\n",
        "\n",
        "#  2. Seleziona le feature e il target (Stato della comunicazione da 0 a 4)\n",
        "features = ['SNR', 'BER']\n",
        "X = df[features].values\n",
        "y = df[\"Classe\"].values  # Target (0 - pessima, 2 - ottima)\n",
        "\n",
        "#  3. Normalizza i dati\n",
        "scaler = MinMaxScaler()\n",
        "X_scaled = scaler.fit_transform(X)\n",
        "\n",
        "#  4. Dividi i dati in training e test set\n",
        "X_train, X_test, y_train, y_test = train_test_split(X_scaled, y, test_size=0.2, random_state=42)\n",
        "\n",
        "#  5. Inizializza e addestra il modello SVM\n",
        "svm_model = SVC(kernel=\"rbf\", C=100, gamma=\"scale\")  # Kernel RBF per non linearità\n",
        "svm_model.fit(X_train, y_train)\n",
        "print(y_test[:10]);\n",
        "#X_test_notScaled = scaler.inverse_transform(X_test);\n",
        "#print(X_test_notScaled[:10]);\n",
        "print(X_test[:10])\n",
        "\n",
        "#  6. Effettua le predizioni\n",
        "y_pred = svm_model.predict(X_test)  # Effettua la predizione\n",
        "print(y_pred[:10])  # Mostra le prime 5 righe\n",
        "\n",
        "\n",
        "#  7. Valuta le performance\n",
        "acc = accuracy_score(y_test, y_pred)\n",
        "print(f\"Accuracy: {acc:.2f}\")\n",
        "print(\"\\nClassification Report:\\n\", classification_report(y_test, y_pred))\n",
        "\n",
        "#  8. Matrice di confusione\n",
        "plt.figure(figsize=(6,5))\n",
        "sns.heatmap(confusion_matrix(y_test, y_pred), annot=True, cmap=\"Blues\", fmt=\"d\")\n",
        "plt.xlabel(\"Predicted\")\n",
        "plt.ylabel(\"Actual\")\n",
        "plt.title(\"Confusion Matrix - SVM\")\n",
        "plt.show()\n"
      ]
    },
    {
      "cell_type": "code",
      "source": [
        "\n",
        "from sklearn.model_selection import GridSearchCV\n",
        "parameters = {'C': [1, 10, 100], 'gamma': ['scale', 'auto']}\n",
        "grid_search = GridSearchCV(SVC(), parameters, cv=5)\n",
        "grid_search.fit(X_train, y_train)\n",
        "print(grid_search.best_params_)\n",
        "print(grid_search.best_score_)"
      ],
      "metadata": {
        "id": "ykdXp2rnHB0w"
      },
      "execution_count": null,
      "outputs": []
    },
    {
      "cell_type": "markdown",
      "source": [
        "Salvataggio del modello per esportarlo in matlab\n"
      ],
      "metadata": {
        "id": "a2CQ0p1ns96w"
      }
    },
    {
      "cell_type": "code",
      "source": [
        "import pickle\n",
        "# Salvataggio del modello\n",
        "with open('svm_model.pkl', 'wb') as f:\n",
        "    pickle.dump(svm_model, f)\n"
      ],
      "metadata": {
        "id": "bNZEq5HztBoe"
      },
      "execution_count": null,
      "outputs": []
    },
    {
      "cell_type": "code",
      "source": [
        "X_test = [[15,1.3e-3]]  # Reshape X_test to a 2D array with one sample\n",
        "X_test = scaler.transform(X_test)\n",
        "svm_model.predict(X_test) # Now the predict function should work correctly.,"
      ],
      "metadata": {
        "colab": {
          "base_uri": "https://localhost:8080/"
        },
        "id": "wTUGuDyzyXx_",
        "outputId": "62b63af9-0220-4511-f78a-b55485c2c1db"
      },
      "execution_count": null,
      "outputs": [
        {
          "output_type": "execute_result",
          "data": {
            "text/plain": [
              "array([1])"
            ]
          },
          "metadata": {},
          "execution_count": 5
        }
      ]
    }
  ]
}